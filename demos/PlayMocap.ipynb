{
 "cells": [
  {
   "cell_type": "code",
   "execution_count": 1,
   "metadata": {
    "collapsed": true
   },
   "outputs": [],
   "source": [
    "%matplotlib inline\n",
    "%load_ext autoreload\n",
    "# %load_ext toc2\n",
    "%autoreload 2\n",
    "\n",
    "import matplotlib\n",
    "import matplotlib.pyplot as plt\n",
    "from mpl_toolkits.mplot3d import Axes3D\n",
    "\n",
    "import tensorflow as tf\n",
    "import numpy as np\n",
    "import pandas as pd\n",
    "from sklearn.pipeline import Pipeline\n",
    "from sklearn.preprocessing import StandardScaler\n",
    "import pickle\n",
    "import itertools\n",
    "from datetime import datetime\n",
    "\n",
    "\n",
    "import glob\n",
    "import os\n",
    "import sys\n",
    "module_path = os.path.abspath(os.path.join('..'))\n",
    "if module_path not in sys.path:\n",
    "    sys.path.append(module_path)\n",
    "    \n",
    "import IPython\n",
    "\n",
    "from pymo.parsers import BVHParser\n",
    "from pymo.preprocessing import *\n",
    "from pymo.viz_tools import *\n",
    "from pymo.writers import *"
   ]
  },
  {
   "cell_type": "code",
   "execution_count": 12,
   "metadata": {
    "collapsed": false
   },
   "outputs": [],
   "source": [
    "p = BVHParser()\n",
    "\n",
    "data_all = [p.parse('../../../CodeOnTitan/MocapFiles/av_cleaned/AV_8Walk_Meredith_HVHA_Rep1.bvh')]"
   ]
  },
  {
   "cell_type": "code",
   "execution_count": 13,
   "metadata": {
    "collapsed": false
   },
   "outputs": [],
   "source": [
    "BVH2Pos = MocapParameterizer('position')\n",
    "data_pos = BVH2Pos.fit_transform(data_all)"
   ]
  },
  {
   "cell_type": "code",
   "execution_count": 14,
   "metadata": {
    "collapsed": false
   },
   "outputs": [],
   "source": [
    "mocap = data_pos[0]\n",
    "data_template_url = '../mocapplayer/data-template.js'\n",
    "\n",
    "cols = list(mocap.values.columns)\n",
    "for c in cols:\n",
    "    if 'rotation' in c:\n",
    "        cols.remove(c)\n",
    "data_csv = mocap.values.to_csv(index=False, columns=cols)"
   ]
  },
  {
   "cell_type": "code",
   "execution_count": 15,
   "metadata": {
    "collapsed": false
   },
   "outputs": [],
   "source": [
    "with open(data_template_url, 'r') as tFile:\n",
    "    data_template = tFile.read()\n",
    "\n",
    "data_assigned = data_template.replace('$$DATA$$', data_csv)\n",
    "\n",
    "with open('../mocapplayer/data.js', 'w') as oFile:\n",
    "    oFile.write(data_assigned)\n"
   ]
  },
  {
   "cell_type": "code",
   "execution_count": 17,
   "metadata": {
    "collapsed": false,
    "scrolled": false
   },
   "outputs": [
    {
     "data": {
      "text/html": [
       "<iframe src=../mocapplayer/playBuffer.html?&scale=.7&cz=200&order=xzyi&frame_time=0.033333 width=\"100%\" height=500></iframe><a href=../mocapplayer/playBuffer.html?&scale=.7&cz=200&order=xzyi&frame_time=0.033333 target=\"_blank\">New Window</a>"
      ],
      "text/plain": [
       "<IPython.core.display.HTML object>"
      ]
     },
     "execution_count": 17,
     "metadata": {},
     "output_type": "execute_result"
    }
   ],
   "source": [
    "base_url = '../mocapplayer/playBuffer.html'\n",
    "frame_time = 1/30    \n",
    "url = '%s?&scale=.7&cz=200&order=xzyi&frame_time=%f'%(base_url, frame_time)\n",
    "iframe = '<iframe src=' + url + ' width=\"100%\" height=500></iframe>'\n",
    "link = '<a href=%s target=\"_blank\">New Window</a>'%url\n",
    "IPython.display.HTML(iframe+link)"
   ]
  },
  {
   "cell_type": "code",
   "execution_count": null,
   "metadata": {
    "collapsed": true
   },
   "outputs": [],
   "source": []
  }
 ],
 "metadata": {
  "kernelspec": {
   "display_name": "Python 3",
   "language": "python",
   "name": "python3"
  },
  "language_info": {
   "codemirror_mode": {
    "name": "ipython",
    "version": 3
   },
   "file_extension": ".py",
   "mimetype": "text/x-python",
   "name": "python",
   "nbconvert_exporter": "python",
   "pygments_lexer": "ipython3",
   "version": "3.5.2"
  }
 },
 "nbformat": 4,
 "nbformat_minor": 2
}
